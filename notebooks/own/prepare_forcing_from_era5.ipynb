{
 "cells": [
  {
   "cell_type": "markdown",
   "metadata": {},
   "source": [
    "# Make your own forcing data from ERA5\n",
    "\n",
    "Introduction: There are lots of forcing data can be used to drive the model, such as ERA5, NCEP (https://psl.noaa.gov/data/gridded/data.ncep.reanalysis.html), etc. Here, we recommend ERA5 to make your own single point forcing as the NCEP and others are too big to download. The ERA5 data can be obtained in a small scale, which usually light weight to download and store."
   ]
  },
  {
   "cell_type": "markdown",
   "metadata": {},
   "source": [
    "### Download the required variables from the cdsapi\n",
    "\n",
    "First, we will use the `cdsapi` package to download the data. If you don't have the package installed, you can install it using the following command:\n",
    "\n",
    "```\n",
    "pip install cdsapi\n",
    "\n",
    "cat <<EOF > ~/.cdsapirc\n",
    "url: {api-url}\n",
    "key: {uid}:{api-key}\n",
    "EOF \n",
    "```\n",
    "\n",
    "[How to get your CDS API?](https://cds.climate.copernicus.eu/how-to-api)"
   ]
  },
  {
   "cell_type": "markdown",
   "metadata": {},
   "source": [
    "**note: it will take a long time to run this script, so you can run it in the background and check the output file later.**"
   ]
  },
  {
   "cell_type": "markdown",
   "metadata": {},
   "source": [
    "We also can use the interface to download the data. The code below is an example of how to download the data using the interface.\n",
    "\n",
    "ref: https://cds.climate.copernicus.eu/cdsapp#!/dataset/reanalysis-era5-single-levels?tab=form"
   ]
  },
  {
   "cell_type": "markdown",
   "metadata": {},
   "source": [
    "**New updates**: The ERA5 source updated time-series data which is faster and more efficient and get forcing from the ERA5 (grided) source.\n",
    "\n",
    "We update the workflow to use the new ERA5 source, you can  use the `source='era5-land-ts'` for getting the forcing data efficiently.\n",
    "\n",
    "**Notes**: There are some differences in the calculation of source era5-land-ts and cds. This means you can use this dataset for experimenting with CLMU, but for prediction purposes, you will need to validate the output. Ideally, you should use your own forcing inputs for the best results."
   ]
  },
  {
   "cell_type": "code",
   "execution_count": 1,
   "metadata": {},
   "outputs": [
    {
     "name": "stdout",
     "output_type": "stream",
     "text": [
      "pyclmuapp version: 0.0.2\n"
     ]
    }
   ],
   "source": [
    "import pyclmuapp\n",
    "from pyclmuapp import get_forcing\n",
    "\n",
    "print(f\"pyclmuapp version: {pyclmuapp.__version__}\")"
   ]
  },
  {
   "cell_type": "code",
   "execution_count": 2,
   "metadata": {},
   "outputs": [
    {
     "name": "stdout",
     "output_type": "stream",
     "text": [
      "Downloading data for 51.5, 0.1, 2018-07-01 to 2018-10-01...\n"
     ]
    },
    {
     "name": "stderr",
     "output_type": "stream",
     "text": [
      "2025-08-14 11:22:04,866 WARNING [2025-06-04T00:00:00] This dataset provides user-selected location timeseries of [ERA5 Land data](https://doi.org/10.24381/cds.e2161bac) for a limited set of variables. Its content may be undergo changes over time (e.g. file format, data file structure, deprecation etc) and is **not recommended for use in a production environment**. \n",
      "\n",
      "For users interested in large regions, the original ERA5 Land catalogue entry remains the more efficient option. \n",
      "We will make every effort to notify users of changes, either through this banner and/or the [Forum](https://forum.ecmwf.int/).\n",
      "2025-08-14 11:22:04,866 WARNING [2025-08-14T10:22:04.868499] You are using a deprecated API endpoint. If you are using cdsapi, please upgrade to the latest version.\n",
      "2025-08-14 11:22:04,867 INFO Request ID is 15f52bce-a779-460f-acbb-41b97ce361d4\n",
      "2025-08-14 11:22:04,939 INFO status has been updated to accepted\n",
      "2025-08-14 11:22:17,504 INFO status has been updated to running\n",
      "2025-08-14 11:22:36,642 INFO status has been updated to successful\n",
      "                                                                                       \r"
     ]
    },
    {
     "name": "stdout",
     "output_type": "stream",
     "text": [
      "CPU times: user 822 ms, sys: 276 ms, total: 1.1 s\n",
      "Wall time: 34.7 s\n"
     ]
    },
    {
     "data": {
      "text/plain": [
       "'/Users/user/Documents/GitHub/pyclmuapp_env/docs/notebooks/own/era5_data/era5_land_ts_forcing_51.5_0.12_30_2018_7_2018_9.nc'"
      ]
     },
     "execution_count": 2,
     "metadata": {},
     "output_type": "execute_result"
    }
   ],
   "source": [
    "%%time\n",
    "\n",
    "lat=51.5\n",
    "lon=0.12\n",
    "zbot=30\n",
    "start_year=2018\n",
    "end_year=2018\n",
    "start_month=7\n",
    "end_month=9\n",
    "get_forcing(\n",
    "    lat=lat, lon=lon, zbot=zbot, \n",
    "    start_year=start_year, end_year=end_year, \n",
    "    start_month=start_month, end_month=end_month,\n",
    "    source='era5-land-ts')"
   ]
  },
  {
   "cell_type": "code",
   "execution_count": 3,
   "metadata": {},
   "outputs": [
    {
     "name": "stdout",
     "output_type": "stream",
     "text": [
      "download: ./era5_data/era5_single/era5_single_2018_07_51.5_0.12.zip\n"
     ]
    },
    {
     "name": "stderr",
     "output_type": "stream",
     "text": [
      "2025-08-14 11:22:39,401 WARNING [2025-08-14T10:22:39.404172] You are using a deprecated API endpoint. If you are using cdsapi, please upgrade to the latest version.\n",
      "2025-08-14 11:22:39,401 INFO Request ID is d9e6e77b-a11d-4727-bde9-d17c5bd987f5\n",
      "2025-08-14 11:22:39,483 INFO status has been updated to accepted\n",
      "2025-08-14 11:23:11,086 INFO status has been updated to running\n",
      "2025-08-14 11:30:57,431 INFO status has been updated to successful\n",
      "                                                                                       \r"
     ]
    },
    {
     "name": "stdout",
     "output_type": "stream",
     "text": [
      "download: ./era5_data/era5_single/era5_single_2018_08_51.5_0.12.zip\n"
     ]
    },
    {
     "name": "stderr",
     "output_type": "stream",
     "text": [
      "2025-08-14 11:30:59,307 WARNING [2025-08-14T10:30:59.312720] You are using a deprecated API endpoint. If you are using cdsapi, please upgrade to the latest version.\n",
      "2025-08-14 11:30:59,310 INFO Request ID is 0dcdf1ed-5a7b-491b-ba96-ff9e0ca0cd36\n",
      "2025-08-14 11:30:59,379 INFO status has been updated to accepted\n",
      "2025-08-14 11:31:11,910 INFO status has been updated to running\n",
      "2025-08-14 11:31:19,575 INFO status has been updated to accepted\n",
      "2025-08-14 11:31:31,020 INFO status has been updated to running\n",
      "2025-08-14 11:37:17,175 INFO status has been updated to successful\n",
      "                                                                                        \r"
     ]
    },
    {
     "name": "stdout",
     "output_type": "stream",
     "text": [
      "download: ./era5_data/era5_single/era5_single_2018_09_51.5_0.12.zip\n"
     ]
    },
    {
     "name": "stderr",
     "output_type": "stream",
     "text": [
      "2025-08-14 11:37:18,802 WARNING [2025-08-14T10:37:18.741006] You are using a deprecated API endpoint. If you are using cdsapi, please upgrade to the latest version.\n",
      "2025-08-14 11:37:18,803 INFO Request ID is bd7fc0b1-05b1-4dbe-a7dd-19ded3c669d5\n",
      "2025-08-14 11:37:18,982 INFO status has been updated to accepted\n",
      "2025-08-14 11:37:26,409 INFO status has been updated to running\n",
      "2025-08-14 11:45:37,411 INFO status has been updated to successful\n",
      "                                                                                       "
     ]
    },
    {
     "name": "stdout",
     "output_type": "stream",
     "text": [
      "CPU times: user 790 ms, sys: 407 ms, total: 1.2 s\n",
      "Wall time: 22min 59s\n"
     ]
    },
    {
     "name": "stderr",
     "output_type": "stream",
     "text": [
      "\r"
     ]
    },
    {
     "data": {
      "text/plain": [
       "'/Users/user/Documents/GitHub/pyclmuapp_env/docs/notebooks/own/era5_data/era5_forcing_51.5_0.12_30_2018_7_2018_9.nc'"
      ]
     },
     "execution_count": 3,
     "metadata": {},
     "output_type": "execute_result"
    }
   ],
   "source": [
    "%%time\n",
    "\n",
    "lat=51.5\n",
    "lon=0.12\n",
    "zbot=30\n",
    "start_year=2018\n",
    "end_year=2018\n",
    "start_month=7\n",
    "end_month=9\n",
    "get_forcing(\n",
    "    lat=lat, lon=lon, zbot=zbot, \n",
    "    start_year=start_year, end_year=end_year, \n",
    "    start_month=start_month, end_month=end_month,\n",
    "    source='cds')"
   ]
  },
  {
   "cell_type": "markdown",
   "metadata": {},
   "source": [
    "### command line\n",
    "this is same as above"
   ]
  },
  {
   "cell_type": "code",
   "execution_count": 4,
   "metadata": {},
   "outputs": [
    {
     "name": "stdout",
     "output_type": "stream",
     "text": [
      "Namespace(init=False, pwd='/Users/user/Documents/GitHub/pyclmuapp_env/docs/notebooks/own', container_type='docker', input_path=None, output_path=None, log_path=None, scripts_path=None, pyclmuapp_mode='get_forcing', has_container=True, usr_domain=None, usr_forcing=None, usr_surfdata=None, output_prefix='_clm.nc', case_name='usp_case', run_startdate=None, start_tod='00000', stop_option='ndays', stop_n='1', run_type='coldstart', run_refcase='None', run_refdate='None', run_reftod='00000', urban_hac='ON', iflog=True, logfile='pyclmuapp.log', hist_type='GRID', hist_nhtfrq=1, hist_mfilt=1000000000, clean=False, surf_var=None, surf_action=0, forcing_var=None, forcing_action=0, script=None, urbsurf=None, soildata=None, pct_urban=[0, 0, 100.0], lat=51.5, lon=0.12, outputname='surfdata.nc', zbot=30, start_year=2018, end_year=2018, start_month=7, end_month=9, source='era5-land-ts')\n",
      "The forcing file era5_data/era5_land_ts_forcing_51.5_0.12_30_2018_7_2018_9.nc already exists.\n"
     ]
    }
   ],
   "source": [
    "! pyclmuapp --pyclmuapp_mode get_forcing \\\n",
    "    --lat 51.5 --lon 0.12 --zbot 30 \\\n",
    "    --start_year 2018 --end_year 2018 \\\n",
    "    --start_month 7 --end_month 9 --source \"era5-land-ts\"\n",
    "# will download and save in the default folder `./era5_forcing/`\n",
    "# the output file will like `./era5_land_ts_forcing/era5_forcing_51.5_0.12_30_2018_7_2018_9.nc`"
   ]
  },
  {
   "cell_type": "markdown",
   "metadata": {},
   "source": [
    "**test the forcing data**"
   ]
  },
  {
   "cell_type": "code",
   "execution_count": 5,
   "metadata": {},
   "outputs": [
    {
     "name": "stdout",
     "output_type": "stream",
     "text": [
      "Namespace(init=False, pwd='/Users/user/Documents/GitHub/pyclmuapp_env/docs/notebooks/own', container_type='docker', input_path=None, output_path=None, log_path=None, scripts_path=None, pyclmuapp_mode='usp', has_container=True, usr_domain=None, usr_forcing='era5_data/era5_land_ts_forcing_51.5_0.12_30_2018_7_2018_9.nc', usr_surfdata='surfdata.nc', output_prefix='_clm.nc', case_name='pyclmuapp', run_startdate='2018-07-01', start_tod='00000', stop_option='ndays', stop_n='15', run_type='coldstart', run_refcase='None', run_refdate='None', run_reftod='00000', urban_hac='ON', iflog=True, logfile='pyclmuapp.log', hist_type='GRID', hist_nhtfrq=1, hist_mfilt=1000000000, clean='True', surf_var=None, surf_action=0, forcing_var=None, forcing_action=0, script=None, urbsurf=None, soildata=None, pct_urban=[0, 0, 100.0], lat=None, lon=None, outputname='surfdata.nc', zbot=30, start_year=2012, end_year=2012, start_month=1, end_month=12, source='cds')\n",
      "Copying the file era5_land_ts_forcing_51.5_0.12_30_2018_7_2018_9.nc to the /Users/user/Documents/GitHub/pyclmuapp_env/docs/notebooks/own/workdir/inputfolder/usp\n",
      "The domain file is not provided\n",
      "The case is:  pyclmuapp\n",
      "The log file is:  pyclmuapp.log\n",
      "The output file is:  {'original': ['/Users/user/Documents/GitHub/pyclmuapp_env/docs/notebooks/own/workdir/outputfolder/lnd/hist/pyclmuapp_clm0_2025-08-14_11-46-48_clm.nc']}\n"
     ]
    }
   ],
   "source": [
    "! pyclmuapp \\\n",
    "    --container_type docker \\\n",
    "    --iflog True \\\n",
    "    --logfile \"pyclmuapp.log\" \\\n",
    "    --usr_forcing \"era5_data/era5_land_ts_forcing_51.5_0.12_30_2018_7_2018_9.nc\" \\\n",
    "    --usr_surfdata \"surfdata.nc\" \\\n",
    "    --RUN_STARTDATE \"2018-07-01\" --STOP_OPTION \"ndays\" --STOP_N \"15\" \\\n",
    "    --RUN_TYPE \"coldstart\" \\\n",
    "    --hist_mfilt \"1000000000\" \\\n",
    "    --output_prefix \"_clm.nc\" \\\n",
    "    --CASE_NAME \"pyclmuapp\" \\\n",
    "    --clean True"
   ]
  },
  {
   "cell_type": "code",
   "execution_count": 6,
   "metadata": {},
   "outputs": [
    {
     "name": "stdout",
     "output_type": "stream",
     "text": [
      "Namespace(init=False, pwd='/Users/user/Documents/GitHub/pyclmuapp_env/docs/notebooks/own', container_type='docker', input_path=None, output_path=None, log_path=None, scripts_path=None, pyclmuapp_mode='usp', has_container=True, usr_domain=None, usr_forcing='era5_data/era5_forcing_51.5_0.12_30_2018_7_2018_9.nc', usr_surfdata='surfdata.nc', output_prefix='_clm.nc', case_name='pyclmuapp_2', run_startdate='2018-07-01', start_tod='00000', stop_option='ndays', stop_n='15', run_type='coldstart', run_refcase='None', run_refdate='None', run_reftod='00000', urban_hac='ON', iflog=True, logfile='pyclmuapp.log', hist_type='GRID', hist_nhtfrq=1, hist_mfilt=1000000000, clean='True', surf_var=None, surf_action=0, forcing_var=None, forcing_action=0, script=None, urbsurf=None, soildata=None, pct_urban=[0, 0, 100.0], lat=None, lon=None, outputname='surfdata.nc', zbot=30, start_year=2012, end_year=2012, start_month=1, end_month=12, source='cds')\n",
      "Copying the file era5_forcing_51.5_0.12_30_2018_7_2018_9.nc to the /Users/user/Documents/GitHub/pyclmuapp_env/docs/notebooks/own/workdir/inputfolder/usp\n",
      "The domain file is not provided\n",
      "The case is:  pyclmuapp_2\n",
      "The log file is:  pyclmuapp.log\n",
      "The output file is:  {'original': ['/Users/user/Documents/GitHub/pyclmuapp_env/docs/notebooks/own/workdir/outputfolder/lnd/hist/pyclmuapp_2_clm0_2025-08-14_11-48-21_clm.nc']}\n"
     ]
    }
   ],
   "source": [
    "! pyclmuapp \\\n",
    "    --container_type docker \\\n",
    "    --iflog True \\\n",
    "    --logfile \"pyclmuapp.log\" \\\n",
    "    --usr_forcing \"era5_data/era5_forcing_51.5_0.12_30_2018_7_2018_9.nc\" \\\n",
    "    --usr_surfdata \"surfdata.nc\" \\\n",
    "    --RUN_STARTDATE \"2018-07-01\" --STOP_OPTION \"ndays\" --STOP_N \"15\" \\\n",
    "    --CASE_NAME \"pyclmuapp_2\" \\\n",
    "    --clean True"
   ]
  }
 ],
 "metadata": {
  "kernelspec": {
   "display_name": "pymet",
   "language": "python",
   "name": "python3"
  },
  "language_info": {
   "codemirror_mode": {
    "name": "ipython",
    "version": 3
   },
   "file_extension": ".py",
   "mimetype": "text/x-python",
   "name": "python",
   "nbconvert_exporter": "python",
   "pygments_lexer": "ipython3",
   "version": "3.11.8"
  }
 },
 "nbformat": 4,
 "nbformat_minor": 2
}
