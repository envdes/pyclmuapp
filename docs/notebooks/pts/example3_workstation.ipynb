{
 "cells": [
  {
   "cell_type": "markdown",
   "metadata": {},
   "source": [
    "# Example 3: Urban climate adaption\n"
   ]
  },
  {
   "cell_type": "code",
   "execution_count": 1,
   "metadata": {},
   "outputs": [],
   "source": [
    "from pyclmuapp import pts_clmu\n",
    "from pyclmuapp import usp_clmu\n",
    "from pyclmuapp.getcity import *\n",
    "import matplotlib.pyplot as plt\n",
    "import pandas as pd\n",
    "import os"
   ]
  },
  {
   "cell_type": "markdown",
   "metadata": {},
   "source": [
    "## 1 PTS mode: using the CESM provide global data\n"
   ]
  },
  {
   "cell_type": "code",
   "execution_count": 2,
   "metadata": {},
   "outputs": [
    {
     "data": {
      "text/plain": [
       "{'lat': 51.361255645752, 'lon': 0.0}"
      ]
     },
     "execution_count": 2,
     "metadata": {},
     "output_type": "execute_result"
    }
   ],
   "source": [
    "# the mask if from UrbanClimateExplorer/docs/notebooks/CESM1_get_urban_areas_mask.ipynb\n",
    "# https://github.com/zhonghua-zheng/UrbanClimateExplorer/blob/main/docs/notebooks/CESM1_get_urban_areas_mask.ipynb\n",
    "mask = pd.read_csv(\"src/CESM1_urban_mask.csv\", index_col=0)\n",
    "citylist = get_mask_cities(mask)\n",
    "\n",
    "\n",
    "# set the location of London\n",
    "London = {'lat': 51.5, 'lon': -0.1}\n",
    "\n",
    "# find the closest city grid point to London (resolution is 1 degree, CESM nominal resolution)\n",
    "closecity = closest(citylist,London)\n",
    "\n",
    "closecity"
   ]
  },
  {
   "cell_type": "code",
   "execution_count": 3,
   "metadata": {},
   "outputs": [],
   "source": [
    "# initialize the pts_clmu object\n",
    "\n",
    "pts = pts_clmu(\n",
    "    pwd=None,\n",
    "    input_path=\"/home/zhonghua/p/scratch/CESMDATAROOT/inputdata\",\n",
    "    output_path=\"/home/zhonghua/p/scratch/CESMDATAROOT/Archive/lnd/hist\",\n",
    "    log_path=\"/home/zhonghua/p/scratch/CESMDATAROOT/CaseOutputs\",\n",
    "    scripts_path = \"/home/zhonghua/p/scripts\",\n",
    "    container_type='docker')\n",
    "\n",
    "# set the case configuration\n",
    "pts.caseconfig['case_name'] = 'London'\n",
    "pts.caseconfig['case_length'] = \"3\"\n",
    "pts.caseconfig['hist_nhtfrq'] = '-24'\n",
    "pts.caseconfig['STOP_OPTION'] = \"nmonths\"\n",
    "pts.caseconfig['hist_mfilt']='240000'\n",
    "pts.caseconfig['RUN_STARTDATE'] = '2012-06-01'\n",
    "pts.caseconfig['DATM_CLMNCEP_YR_START'] = '2012'\n",
    "pts.caseconfig['DATM_CLMNCEP_YR_END'] = '2012'\n",
    "pts.caseconfig['case_lat'] = str(closecity['lat'])\n",
    "pts.caseconfig['case_lon'] = str(closecity['lon'])\n",
    "# run the case\n",
    "pts_or=pts.run(iflog=True, cmdlogfile='./pts_London.log')"
   ]
  },
  {
   "cell_type": "markdown",
   "metadata": {},
   "source": [
    "---\n",
    "\n",
    "modify the whole urban roof albedo --> similate the white/cooling roof for urban adaptation"
   ]
  },
  {
   "cell_type": "code",
   "execution_count": 4,
   "metadata": {},
   "outputs": [
    {
     "name": "stdout",
     "output_type": "stream",
     "text": [
      "The surface input file has been modified. The modified file is /p/scratch/CESMDATAROOT/inputdata/lnd/clm2/surfdata_map/release-clm5.0.18/surfdata_0.9x1.25_hist_16pfts_Irrig_CMIP6_simyr2000_c190214_modified_London.nc.\n"
     ]
    }
   ],
   "source": [
    "pts.modify_surf(var=\"ALB_ROOF_DIR\", action=0.2) # Check the Python API documentation for more details on the parameters\n",
    "pts_surf = pts.run(iflog=True, cmdlogfile='pts_London_surf.log')"
   ]
  },
  {
   "cell_type": "code",
   "execution_count": 5,
   "metadata": {},
   "outputs": [
    {
     "name": "stdout",
     "output_type": "stream",
     "text": [
      "The surface input file has been modified. The modified file is /p/scratch/CESMDATAROOT/inputdata/lnd/clm2/surfdata_map/release-clm5.0.18/surfdata_0.9x1.25_hist_16pfts_Irrig_CMIP6_simyr2000_c190214_modified_London.nc.\n"
     ]
    }
   ],
   "source": [
    "forcing = pts.input_path+\"/atm/datm7/atm_forcing.datm7.cruncep_qianFill.0.5d.v7.c160715\" + \\\n",
    "         \"/TPHWL6Hrly\" + \"/clmforc.cruncep.V7.c2016.0.5d.TPQWL.2012-{month}.nc\"\n",
    "action = {\"TBOT\":1.0}\n",
    "action_r = {\"TBOT\":-1.0}\n",
    "\n",
    "def modify_forcing(forcing, action):\n",
    "    for month in range(6, 9):\n",
    "        forcing_file = forcing.format(month=str(month).zfill(2))\n",
    "        pts.modify_forcing(var=\"None\", action=action, forcing_location=forcing_file)\n",
    "\n",
    "modify_forcing(forcing, action)\n",
    "\n",
    "# get the result\n",
    "pts_warming_surf = pts.run(iflog=True, cmdlogfile='./pts_London.log')\n",
    "\n",
    "# recover the surface\n",
    "pts.modify_surf(var=\"ALB_ROOF_DIR\", action=-0.2)\n",
    "\n",
    "# get the result\n",
    "pts_warming = pts.run(iflog=True, cmdlogfile='./pts_London.log')\n",
    "\n",
    "# recover the forcing\n",
    "modify_forcing(forcing, action_r)"
   ]
  },
  {
   "cell_type": "markdown",
   "metadata": {},
   "source": [
    "Print dataset dataset location"
   ]
  },
  {
   "cell_type": "code",
   "execution_count": 6,
   "metadata": {},
   "outputs": [
    {
     "name": "stdout",
     "output_type": "stream",
     "text": [
      "['/home/zhonghua/p/scratch/CESMDATAROOT/Archive/lnd/hist/London_hist0_2024-06-17_16-04-18_clm.nc']\n",
      "['/home/zhonghua/p/scratch/CESMDATAROOT/Archive/lnd/hist/London_hist0_2024-06-17_16-04-45_clm.nc']\n",
      "['/home/zhonghua/p/scratch/CESMDATAROOT/Archive/lnd/hist/London_hist0_2024-06-17_16-05-44_clm.nc']\n",
      "['/home/zhonghua/p/scratch/CESMDATAROOT/Archive/lnd/hist/London_hist0_2024-06-17_16-05-17_clm.nc']\n"
     ]
    }
   ],
   "source": [
    "print(pts_or)\n",
    "print(pts_surf)\n",
    "print(pts_warming)\n",
    "print(pts_warming_surf)"
   ]
  },
  {
   "cell_type": "code",
   "execution_count": 7,
   "metadata": {},
   "outputs": [],
   "source": [
    "pts.case_clean()"
   ]
  }
 ],
 "metadata": {
  "kernelspec": {
   "display_name": "u_climate_yjj",
   "language": "python",
   "name": "python3"
  },
  "language_info": {
   "codemirror_mode": {
    "name": "ipython",
    "version": 3
   },
   "file_extension": ".py",
   "mimetype": "text/x-python",
   "name": "python",
   "nbconvert_exporter": "python",
   "pygments_lexer": "ipython3",
   "version": "3.9.18"
  }
 },
 "nbformat": 4,
 "nbformat_minor": 2
}
